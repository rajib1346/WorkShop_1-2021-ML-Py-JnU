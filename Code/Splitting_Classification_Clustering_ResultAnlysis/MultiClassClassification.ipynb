{
 "cells": [
  {
   "cell_type": "markdown",
   "id": "7cf49323",
   "metadata": {},
   "source": [
    "# Workshop on Machine Learning Using Python, Jagannath University"
   ]
  },
  {
   "cell_type": "markdown",
   "id": "03783dcd",
   "metadata": {},
   "source": [
    "# Load Dataset"
   ]
  },
  {
   "cell_type": "code",
   "execution_count": 1,
   "id": "c906bd4a",
   "metadata": {},
   "outputs": [
    {
     "data": {
      "text/html": [
       "<div>\n",
       "<style scoped>\n",
       "    .dataframe tbody tr th:only-of-type {\n",
       "        vertical-align: middle;\n",
       "    }\n",
       "\n",
       "    .dataframe tbody tr th {\n",
       "        vertical-align: top;\n",
       "    }\n",
       "\n",
       "    .dataframe thead th {\n",
       "        text-align: right;\n",
       "    }\n",
       "</style>\n",
       "<table border=\"1\" class=\"dataframe\">\n",
       "  <thead>\n",
       "    <tr style=\"text-align: right;\">\n",
       "      <th></th>\n",
       "      <th>sepallength</th>\n",
       "      <th>sepalwidth</th>\n",
       "      <th>petallength</th>\n",
       "      <th>petalwidth</th>\n",
       "      <th>class</th>\n",
       "    </tr>\n",
       "  </thead>\n",
       "  <tbody>\n",
       "    <tr>\n",
       "      <th>0</th>\n",
       "      <td>5.1</td>\n",
       "      <td>3.5</td>\n",
       "      <td>1.4</td>\n",
       "      <td>0.2</td>\n",
       "      <td>Iris-setosa</td>\n",
       "    </tr>\n",
       "    <tr>\n",
       "      <th>1</th>\n",
       "      <td>4.9</td>\n",
       "      <td>3.0</td>\n",
       "      <td>1.4</td>\n",
       "      <td>0.2</td>\n",
       "      <td>Iris-setosa</td>\n",
       "    </tr>\n",
       "    <tr>\n",
       "      <th>2</th>\n",
       "      <td>4.7</td>\n",
       "      <td>3.2</td>\n",
       "      <td>1.3</td>\n",
       "      <td>0.2</td>\n",
       "      <td>Iris-setosa</td>\n",
       "    </tr>\n",
       "    <tr>\n",
       "      <th>3</th>\n",
       "      <td>4.6</td>\n",
       "      <td>3.1</td>\n",
       "      <td>1.5</td>\n",
       "      <td>0.2</td>\n",
       "      <td>Iris-setosa</td>\n",
       "    </tr>\n",
       "    <tr>\n",
       "      <th>4</th>\n",
       "      <td>5.0</td>\n",
       "      <td>3.6</td>\n",
       "      <td>1.4</td>\n",
       "      <td>0.2</td>\n",
       "      <td>Iris-setosa</td>\n",
       "    </tr>\n",
       "    <tr>\n",
       "      <th>...</th>\n",
       "      <td>...</td>\n",
       "      <td>...</td>\n",
       "      <td>...</td>\n",
       "      <td>...</td>\n",
       "      <td>...</td>\n",
       "    </tr>\n",
       "    <tr>\n",
       "      <th>145</th>\n",
       "      <td>6.7</td>\n",
       "      <td>3.0</td>\n",
       "      <td>5.2</td>\n",
       "      <td>2.3</td>\n",
       "      <td>Iris-virginica</td>\n",
       "    </tr>\n",
       "    <tr>\n",
       "      <th>146</th>\n",
       "      <td>6.3</td>\n",
       "      <td>2.5</td>\n",
       "      <td>5.0</td>\n",
       "      <td>1.9</td>\n",
       "      <td>Iris-virginica</td>\n",
       "    </tr>\n",
       "    <tr>\n",
       "      <th>147</th>\n",
       "      <td>6.5</td>\n",
       "      <td>3.0</td>\n",
       "      <td>5.2</td>\n",
       "      <td>2.0</td>\n",
       "      <td>Iris-virginica</td>\n",
       "    </tr>\n",
       "    <tr>\n",
       "      <th>148</th>\n",
       "      <td>6.2</td>\n",
       "      <td>3.4</td>\n",
       "      <td>5.4</td>\n",
       "      <td>2.3</td>\n",
       "      <td>Iris-virginica</td>\n",
       "    </tr>\n",
       "    <tr>\n",
       "      <th>149</th>\n",
       "      <td>5.9</td>\n",
       "      <td>3.0</td>\n",
       "      <td>5.1</td>\n",
       "      <td>1.8</td>\n",
       "      <td>Iris-virginica</td>\n",
       "    </tr>\n",
       "  </tbody>\n",
       "</table>\n",
       "<p>150 rows × 5 columns</p>\n",
       "</div>"
      ],
      "text/plain": [
       "     sepallength  sepalwidth  petallength  petalwidth           class\n",
       "0            5.1         3.5          1.4         0.2     Iris-setosa\n",
       "1            4.9         3.0          1.4         0.2     Iris-setosa\n",
       "2            4.7         3.2          1.3         0.2     Iris-setosa\n",
       "3            4.6         3.1          1.5         0.2     Iris-setosa\n",
       "4            5.0         3.6          1.4         0.2     Iris-setosa\n",
       "..           ...         ...          ...         ...             ...\n",
       "145          6.7         3.0          5.2         2.3  Iris-virginica\n",
       "146          6.3         2.5          5.0         1.9  Iris-virginica\n",
       "147          6.5         3.0          5.2         2.0  Iris-virginica\n",
       "148          6.2         3.4          5.4         2.3  Iris-virginica\n",
       "149          5.9         3.0          5.1         1.8  Iris-virginica\n",
       "\n",
       "[150 rows x 5 columns]"
      ]
     },
     "execution_count": 1,
     "metadata": {},
     "output_type": "execute_result"
    }
   ],
   "source": [
    "import pandas as pd\n",
    "#Load dataset\n",
    "df =pd.read_csv(\"D:/iris_csv.csv\")\n",
    "df"
   ]
  },
  {
   "cell_type": "code",
   "execution_count": 2,
   "id": "57897bf6",
   "metadata": {},
   "outputs": [
    {
     "data": {
      "text/plain": [
       "array(['Iris-setosa', 'Iris-versicolor', 'Iris-virginica'], dtype=object)"
      ]
     },
     "execution_count": 2,
     "metadata": {},
     "output_type": "execute_result"
    }
   ],
   "source": [
    "df['class'].unique()"
   ]
  },
  {
   "cell_type": "code",
   "execution_count": 3,
   "id": "21a711c3",
   "metadata": {},
   "outputs": [
    {
     "data": {
      "text/html": [
       "<div>\n",
       "<style scoped>\n",
       "    .dataframe tbody tr th:only-of-type {\n",
       "        vertical-align: middle;\n",
       "    }\n",
       "\n",
       "    .dataframe tbody tr th {\n",
       "        vertical-align: top;\n",
       "    }\n",
       "\n",
       "    .dataframe thead th {\n",
       "        text-align: right;\n",
       "    }\n",
       "</style>\n",
       "<table border=\"1\" class=\"dataframe\">\n",
       "  <thead>\n",
       "    <tr style=\"text-align: right;\">\n",
       "      <th></th>\n",
       "      <th>sepallength</th>\n",
       "      <th>sepalwidth</th>\n",
       "      <th>petallength</th>\n",
       "      <th>petalwidth</th>\n",
       "      <th>class</th>\n",
       "      <th>label</th>\n",
       "    </tr>\n",
       "  </thead>\n",
       "  <tbody>\n",
       "    <tr>\n",
       "      <th>0</th>\n",
       "      <td>5.1</td>\n",
       "      <td>3.5</td>\n",
       "      <td>1.4</td>\n",
       "      <td>0.2</td>\n",
       "      <td>Iris-setosa</td>\n",
       "      <td>0</td>\n",
       "    </tr>\n",
       "    <tr>\n",
       "      <th>1</th>\n",
       "      <td>4.9</td>\n",
       "      <td>3.0</td>\n",
       "      <td>1.4</td>\n",
       "      <td>0.2</td>\n",
       "      <td>Iris-setosa</td>\n",
       "      <td>0</td>\n",
       "    </tr>\n",
       "    <tr>\n",
       "      <th>2</th>\n",
       "      <td>4.7</td>\n",
       "      <td>3.2</td>\n",
       "      <td>1.3</td>\n",
       "      <td>0.2</td>\n",
       "      <td>Iris-setosa</td>\n",
       "      <td>0</td>\n",
       "    </tr>\n",
       "    <tr>\n",
       "      <th>3</th>\n",
       "      <td>4.6</td>\n",
       "      <td>3.1</td>\n",
       "      <td>1.5</td>\n",
       "      <td>0.2</td>\n",
       "      <td>Iris-setosa</td>\n",
       "      <td>0</td>\n",
       "    </tr>\n",
       "    <tr>\n",
       "      <th>4</th>\n",
       "      <td>5.0</td>\n",
       "      <td>3.6</td>\n",
       "      <td>1.4</td>\n",
       "      <td>0.2</td>\n",
       "      <td>Iris-setosa</td>\n",
       "      <td>0</td>\n",
       "    </tr>\n",
       "    <tr>\n",
       "      <th>...</th>\n",
       "      <td>...</td>\n",
       "      <td>...</td>\n",
       "      <td>...</td>\n",
       "      <td>...</td>\n",
       "      <td>...</td>\n",
       "      <td>...</td>\n",
       "    </tr>\n",
       "    <tr>\n",
       "      <th>145</th>\n",
       "      <td>6.7</td>\n",
       "      <td>3.0</td>\n",
       "      <td>5.2</td>\n",
       "      <td>2.3</td>\n",
       "      <td>Iris-virginica</td>\n",
       "      <td>2</td>\n",
       "    </tr>\n",
       "    <tr>\n",
       "      <th>146</th>\n",
       "      <td>6.3</td>\n",
       "      <td>2.5</td>\n",
       "      <td>5.0</td>\n",
       "      <td>1.9</td>\n",
       "      <td>Iris-virginica</td>\n",
       "      <td>2</td>\n",
       "    </tr>\n",
       "    <tr>\n",
       "      <th>147</th>\n",
       "      <td>6.5</td>\n",
       "      <td>3.0</td>\n",
       "      <td>5.2</td>\n",
       "      <td>2.0</td>\n",
       "      <td>Iris-virginica</td>\n",
       "      <td>2</td>\n",
       "    </tr>\n",
       "    <tr>\n",
       "      <th>148</th>\n",
       "      <td>6.2</td>\n",
       "      <td>3.4</td>\n",
       "      <td>5.4</td>\n",
       "      <td>2.3</td>\n",
       "      <td>Iris-virginica</td>\n",
       "      <td>2</td>\n",
       "    </tr>\n",
       "    <tr>\n",
       "      <th>149</th>\n",
       "      <td>5.9</td>\n",
       "      <td>3.0</td>\n",
       "      <td>5.1</td>\n",
       "      <td>1.8</td>\n",
       "      <td>Iris-virginica</td>\n",
       "      <td>2</td>\n",
       "    </tr>\n",
       "  </tbody>\n",
       "</table>\n",
       "<p>150 rows × 6 columns</p>\n",
       "</div>"
      ],
      "text/plain": [
       "     sepallength  sepalwidth  petallength  petalwidth           class  label\n",
       "0            5.1         3.5          1.4         0.2     Iris-setosa      0\n",
       "1            4.9         3.0          1.4         0.2     Iris-setosa      0\n",
       "2            4.7         3.2          1.3         0.2     Iris-setosa      0\n",
       "3            4.6         3.1          1.5         0.2     Iris-setosa      0\n",
       "4            5.0         3.6          1.4         0.2     Iris-setosa      0\n",
       "..           ...         ...          ...         ...             ...    ...\n",
       "145          6.7         3.0          5.2         2.3  Iris-virginica      2\n",
       "146          6.3         2.5          5.0         1.9  Iris-virginica      2\n",
       "147          6.5         3.0          5.2         2.0  Iris-virginica      2\n",
       "148          6.2         3.4          5.4         2.3  Iris-virginica      2\n",
       "149          5.9         3.0          5.1         1.8  Iris-virginica      2\n",
       "\n",
       "[150 rows x 6 columns]"
      ]
     },
     "execution_count": 3,
     "metadata": {},
     "output_type": "execute_result"
    }
   ],
   "source": [
    "#Label Encoding\n",
    "from sklearn import preprocessing\n",
    "le = preprocessing.LabelEncoder()\n",
    "df['label'] = le.fit_transform(df['class'])\n",
    "df"
   ]
  },
  {
   "cell_type": "code",
   "execution_count": 4,
   "id": "c48005ce",
   "metadata": {},
   "outputs": [],
   "source": [
    "#X= Independent features and y=Dependent feature\n",
    "x = df.drop(['class','label'],axis=1) # axis=0 will act on all the ROWS in each column. axis 1 will act on all the COLUMNS in each row.\n",
    "y = df['label']"
   ]
  },
  {
   "cell_type": "code",
   "execution_count": 5,
   "id": "09976a35",
   "metadata": {},
   "outputs": [
    {
     "data": {
      "text/plain": [
       "array([0, 1, 2])"
      ]
     },
     "execution_count": 5,
     "metadata": {},
     "output_type": "execute_result"
    }
   ],
   "source": [
    "#Checking unique class\n",
    "y.unique()"
   ]
  },
  {
   "cell_type": "markdown",
   "id": "88642465",
   "metadata": {},
   "source": [
    "# Dataset Spliting"
   ]
  },
  {
   "cell_type": "code",
   "execution_count": 6,
   "id": "a00d9fb4",
   "metadata": {},
   "outputs": [],
   "source": [
    "#Split the the dataset into trin and test set\n",
    "from sklearn.model_selection import train_test_split\n",
    "x_train, x_test, y_train, y_test = train_test_split(x,y,test_size=0.3,random_state=4,shuffle=True)"
   ]
  },
  {
   "cell_type": "markdown",
   "id": "c313644e",
   "metadata": {},
   "source": [
    "# Multi Class Clasification"
   ]
  },
  {
   "cell_type": "code",
   "execution_count": 7,
   "id": "8bffaf97",
   "metadata": {},
   "outputs": [
    {
     "data": {
      "text/plain": [
       "array([2, 0, 2, 2, 2, 1, 2, 0, 0, 1, 0, 0, 0, 1, 2, 0, 1, 0, 0, 2, 0, 2,\n",
       "       1, 0, 0, 0, 0, 0, 0, 2, 1, 0, 2, 0, 1, 2, 2, 1, 1, 0, 2, 0, 1, 0,\n",
       "       2])"
      ]
     },
     "execution_count": 7,
     "metadata": {},
     "output_type": "execute_result"
    }
   ],
   "source": [
    "#Import metrics from sklearn to analysis result\n",
    "from sklearn import metrics\n",
    "#Import OneVsRestClassifier\n",
    "from sklearn.multiclass import OneVsRestClassifier\n",
    "#Import LogisticRegression\n",
    "from sklearn.linear_model import LogisticRegression\n",
    "#Create OneVsRestClassifier\n",
    "OvR = OneVsRestClassifier(LogisticRegression())\n",
    "#Fit OneVsRestClassifier\n",
    "OvR.fit(x_train, y_train)\n",
    "#Predict the class\n",
    "y_pre_OnR = OvR.predict(x_test)\n",
    "y_pre_OnR"
   ]
  },
  {
   "cell_type": "markdown",
   "id": "419b5a62",
   "metadata": {},
   "source": [
    "# Confusion Matrix"
   ]
  },
  {
   "cell_type": "code",
   "execution_count": 8,
   "id": "3936fc72",
   "metadata": {},
   "outputs": [
    {
     "name": "stdout",
     "output_type": "stream",
     "text": [
      "Confusion Matrix:\n",
      " [[21  0  0]\n",
      " [ 0  9  1]\n",
      " [ 0  1 13]]\n"
     ]
    }
   ],
   "source": [
    "from sklearn import metrics\n",
    "c = metrics.confusion_matrix(y_test, y_pre_OnR)\n",
    "print(\"Confusion Matrix:\\n\",c)"
   ]
  },
  {
   "cell_type": "code",
   "execution_count": 9,
   "id": "629648b0",
   "metadata": {},
   "outputs": [
    {
     "name": "stdout",
     "output_type": "stream",
     "text": [
      "For Class 0\n",
      "True Negative: 24\n",
      "False Positive: 0\n",
      "False Negative: 0\n",
      "True Positive: 21\n",
      "Accuracy: 100.00 \n"
     ]
    }
   ],
   "source": [
    "#for class_0  (Positive:0 ; Negative:1 and 2)\n",
    "TP_0=c[0,0]\n",
    "TN_0=c[1,1]+c[1,2]+c[2,1]+c[2,2]\n",
    "FP_0=c[1,0]+c[2,0]\n",
    "FN_0=c[0,1]+c[0,2]\n",
    "Accuracy_0 = ((TP_0+TN_0)/(TP_0+TN_0+FP_0+FN_0))*100\n",
    "print('For Class 0')\n",
    "print('True Negative:', TN_0)\n",
    "print('False Positive:', FP_0)\n",
    "print('False Negative:', FN_0)\n",
    "print('True Positive:', TP_0)\n",
    "print('Accuracy: %.2f ' %Accuracy_0)"
   ]
  },
  {
   "cell_type": "code",
   "execution_count": 10,
   "id": "d4d44ca1",
   "metadata": {},
   "outputs": [
    {
     "name": "stdout",
     "output_type": "stream",
     "text": [
      "For Class 1\n",
      "True Negative: 34\n",
      "False Positive: 1\n",
      "False Negative: 1\n",
      "True Positive: 9\n",
      "Accuracy:95.56\n"
     ]
    }
   ],
   "source": [
    "#for class_1 (Positive:1 ; Negative:0 and 2)\n",
    "TP_1=c[1,1]\n",
    "TN_1=c[0,0]+c[0,2]+c[2,0]+c[2,2]\n",
    "FP_1=c[0,1]+c[2,1]\n",
    "FN_1=c[1,0]+c[1,2]\n",
    "Accuracy_1 = ((TP_1+TN_1)/(TP_1+TN_1+FP_1+FN_1))*100\n",
    "print('For Class 1')\n",
    "print('True Negative:', TN_1)\n",
    "print('False Positive:', FP_1)\n",
    "print('False Negative:', FN_1)\n",
    "print('True Positive:', TP_1)\n",
    "print('Accuracy:%.2f' %Accuracy_1)"
   ]
  },
  {
   "cell_type": "code",
   "execution_count": 12,
   "id": "49eacd47",
   "metadata": {},
   "outputs": [
    {
     "name": "stdout",
     "output_type": "stream",
     "text": [
      "For Class 2\n",
      "True Negative: 30\n",
      "False Positive: 1\n",
      "False Negative: 1\n",
      "True Positive: 13\n",
      "Accuracy: 95.56\n"
     ]
    }
   ],
   "source": [
    "#for class_2 (Positive:2 ; Negative:0 and 1)\n",
    "TP_2=c[2,2]\n",
    "TN_2=c[0,0]+c[0,1]+c[1,0]+c[1,1]\n",
    "FP_2=c[0,2]+c[1,2]\n",
    "FN_2=c[2,0]+c[2,1]\n",
    "Accuracy_2 = ((TP_2+TN_2)/(TP_2+TN_2+FP_2+FN_2))*100\n",
    "print('For Class 2')\n",
    "print('True Negative:', TN_2)\n",
    "print('False Positive:', FP_2)\n",
    "print('False Negative:', FN_2)\n",
    "print('True Positive:', TP_2)\n",
    "print('Accuracy: %.2f' %Accuracy_2)"
   ]
  },
  {
   "cell_type": "code",
   "execution_count": 13,
   "id": "9a6327dd",
   "metadata": {},
   "outputs": [
    {
     "name": "stdout",
     "output_type": "stream",
     "text": [
      "Mean of Accuracy: 97.04\n"
     ]
    }
   ],
   "source": [
    "print('Mean of Accuracy: %.2f' %((Accuracy_0+Accuracy_1+Accuracy_2)/3))"
   ]
  },
  {
   "cell_type": "markdown",
   "id": "0c0f985d",
   "metadata": {},
   "source": [
    "# Multi Class Clasification Using Vonting Ensemble Method"
   ]
  },
  {
   "cell_type": "code",
   "execution_count": 14,
   "id": "4ca3d691",
   "metadata": {},
   "outputs": [
    {
     "name": "stdout",
     "output_type": "stream",
     "text": [
      "Confusion Matrix:\n",
      " [[21  0  0]\n",
      " [ 0  9  1]\n",
      " [ 0  0 14]]\n"
     ]
    }
   ],
   "source": [
    "from sklearn.ensemble import VotingClassifier\n",
    "from sklearn.multiclass import OneVsRestClassifier\n",
    "from sklearn.ensemble import RandomForestClassifier\n",
    "from sklearn.neighbors import KNeighborsClassifier\n",
    "from sklearn.naive_bayes import GaussianNB\n",
    "from sklearn.tree import DecisionTreeClassifier\n",
    "from sklearn import svm\n",
    "\n",
    "b_rf  = RandomForestClassifier()\n",
    "b_knn = KNeighborsClassifier(n_neighbors=2)\n",
    "b_nb  = GaussianNB()\n",
    "b_dt = DecisionTreeClassifier()\n",
    "b_sv = svm.SVC(probability=True)  #Enable probability.By default its disable\n",
    "\n",
    "# AdaBoost\n",
    "#XgBoost\n",
    "#Gradient Boosting\n",
    "#Logistic Regression\n",
    "\n",
    "#[N.B: Source code is hidden. If you want to declare each of the above four as a base classifier please follow above steps.]\n",
    "\n",
    "\n",
    "\n",
    "VC = VotingClassifier (estimators=[('cl1', b_rf), ('cl5', b_knn), ('cl7', b_nb), ('cl8', b_dt), \n",
    "                                    ('cl9', b_sv)], weights=[2,4,2,4,2], voting='soft')      \n",
    "                                                                            # you can use hard voting or soft voting\n",
    "\n",
    "VC = OneVsRestClassifier(VC)    \n",
    "VC.fit(x_train, y_train)\n",
    "y_predict_ensem = VC.predict(x_test)\n",
    "ConMat = metrics.confusion_matrix(y_test, y_predict_ensem)\n",
    "print(\"Confusion Matrix:\\n\",ConMat)"
   ]
  }
 ],
 "metadata": {
  "kernelspec": {
   "display_name": "Python 3",
   "language": "python",
   "name": "python3"
  },
  "language_info": {
   "codemirror_mode": {
    "name": "ipython",
    "version": 3
   },
   "file_extension": ".py",
   "mimetype": "text/x-python",
   "name": "python",
   "nbconvert_exporter": "python",
   "pygments_lexer": "ipython3",
   "version": "3.8.8"
  }
 },
 "nbformat": 4,
 "nbformat_minor": 5
}
